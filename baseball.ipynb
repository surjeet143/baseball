{
 "cells": [
  {
   "cell_type": "code",
   "execution_count": 2,
   "metadata": {},
   "outputs": [],
   "source": [
    "import seaborn as sns\n",
    "import numpy as np\n",
    "from sklearn.model_selection import train_test_split\n",
    "from sklearn.model_selection import cross_val_score\n",
    "from sklearn.metrics import accuracy_score\n",
    "from sklearn.metrics import classification_report\n",
    "from sklearn.model_selection import GridSearchCV"
   ]
  },
  {
   "cell_type": "code",
   "execution_count": 35,
   "metadata": {},
   "outputs": [
    {
     "data": {
      "text/plain": [
       "(30, 17)"
      ]
     },
     "execution_count": 35,
     "metadata": {},
     "output_type": "execute_result"
    }
   ],
   "source": [
    "df = pd.read_csv(\"baseball.csv\")\n",
    "df.shape"
   ]
  },
  {
   "cell_type": "markdown",
   "metadata": {},
   "source": [
    "Since the dataset is really small. It would be hard for us to remove any instance. So avoid removing any instance."
   ]
  },
  {
   "attachments": {
    "image.png": {
     "image/png": "[encoded data removed]"
    }
   },
   "cell_type": "markdown",
   "metadata": {},
   "source": [
    "![image.png](attachment:image.png)"
   ]
  },
  {
   "cell_type": "code",
   "execution_count": 36,
   "metadata": {},
   "outputs": [],
   "source": [
    "# chaning the column names as given in the problem statement\n",
    "columns = [\"wins\", \"runs\", \"at bat\", \"hit\", \"double\", \"triple\", \"homerun\", \"walk\", \"strikeouts\", \"stolen base\",\"runs allowed\",\n",
    "          \"earned runs\", \"earned run average\",\"complete games\", \"shutouts\",\"saves\", \"errors\"]\n",
    "df.columns = columns"
   ]
  },
  {
   "cell_type": "code",
   "execution_count": 9,
   "metadata": {},
   "outputs": [
    {
     "data": {
      "text/html": [
       "<div>\n",
       "<style scoped>\n",
       "    .dataframe tbody tr th:only-of-type {\n",
       "        vertical-align: middle;\n",
       "    }\n",
       "\n",
       "    .dataframe tbody tr th {\n",
       "        vertical-align: top;\n",
       "    }\n",
       "\n",
       "    .dataframe thead th {\n",
       "        text-align: right;\n",
       "    }\n",
       "</style>\n",
       "<table border=\"1\" class=\"dataframe\">\n",
       "  <thead>\n",
       "    <tr style=\"text-align: right;\">\n",
       "      <th></th>\n",
       "      <th>wins</th>\n",
       "      <th>runs</th>\n",
       "      <th>at bat</th>\n",
       "      <th>hit</th>\n",
       "      <th>double</th>\n",
       "      <th>triple</th>\n",
       "      <th>homerun</th>\n",
       "      <th>walk</th>\n",
       "      <th>strikeouts</th>\n",
       "      <th>stolen base</th>\n",
       "      <th>runs allowed</th>\n",
       "      <th>earned runs</th>\n",
       "      <th>earned run average</th>\n",
       "      <th>complete games</th>\n",
       "      <th>shutouts</th>\n",
       "      <th>saves</th>\n",
       "      <th>errors</th>\n",
       "    </tr>\n",
       "  </thead>\n",
       "  <tbody>\n",
       "    <tr>\n",
       "      <th>0</th>\n",
       "      <td>95</td>\n",
       "      <td>724</td>\n",
       "      <td>5575</td>\n",
       "      <td>1497</td>\n",
       "      <td>300</td>\n",
       "      <td>42</td>\n",
       "      <td>139</td>\n",
       "      <td>383</td>\n",
       "      <td>973</td>\n",
       "      <td>104</td>\n",
       "      <td>641</td>\n",
       "      <td>601</td>\n",
       "      <td>3.73</td>\n",
       "      <td>2</td>\n",
       "      <td>8</td>\n",
       "      <td>56</td>\n",
       "      <td>88</td>\n",
       "    </tr>\n",
       "    <tr>\n",
       "      <th>1</th>\n",
       "      <td>83</td>\n",
       "      <td>696</td>\n",
       "      <td>5467</td>\n",
       "      <td>1349</td>\n",
       "      <td>277</td>\n",
       "      <td>44</td>\n",
       "      <td>156</td>\n",
       "      <td>439</td>\n",
       "      <td>1264</td>\n",
       "      <td>70</td>\n",
       "      <td>700</td>\n",
       "      <td>653</td>\n",
       "      <td>4.07</td>\n",
       "      <td>2</td>\n",
       "      <td>12</td>\n",
       "      <td>45</td>\n",
       "      <td>86</td>\n",
       "    </tr>\n",
       "    <tr>\n",
       "      <th>2</th>\n",
       "      <td>81</td>\n",
       "      <td>669</td>\n",
       "      <td>5439</td>\n",
       "      <td>1395</td>\n",
       "      <td>303</td>\n",
       "      <td>29</td>\n",
       "      <td>141</td>\n",
       "      <td>533</td>\n",
       "      <td>1157</td>\n",
       "      <td>86</td>\n",
       "      <td>640</td>\n",
       "      <td>584</td>\n",
       "      <td>3.67</td>\n",
       "      <td>11</td>\n",
       "      <td>10</td>\n",
       "      <td>38</td>\n",
       "      <td>79</td>\n",
       "    </tr>\n",
       "    <tr>\n",
       "      <th>3</th>\n",
       "      <td>76</td>\n",
       "      <td>622</td>\n",
       "      <td>5533</td>\n",
       "      <td>1381</td>\n",
       "      <td>260</td>\n",
       "      <td>27</td>\n",
       "      <td>136</td>\n",
       "      <td>404</td>\n",
       "      <td>1231</td>\n",
       "      <td>68</td>\n",
       "      <td>701</td>\n",
       "      <td>643</td>\n",
       "      <td>3.98</td>\n",
       "      <td>7</td>\n",
       "      <td>9</td>\n",
       "      <td>37</td>\n",
       "      <td>101</td>\n",
       "    </tr>\n",
       "    <tr>\n",
       "      <th>4</th>\n",
       "      <td>74</td>\n",
       "      <td>689</td>\n",
       "      <td>5605</td>\n",
       "      <td>1515</td>\n",
       "      <td>289</td>\n",
       "      <td>49</td>\n",
       "      <td>151</td>\n",
       "      <td>455</td>\n",
       "      <td>1259</td>\n",
       "      <td>83</td>\n",
       "      <td>803</td>\n",
       "      <td>746</td>\n",
       "      <td>4.64</td>\n",
       "      <td>7</td>\n",
       "      <td>12</td>\n",
       "      <td>35</td>\n",
       "      <td>86</td>\n",
       "    </tr>\n",
       "  </tbody>\n",
       "</table>\n",
       "</div>"
      ],
      "text/plain": [
       "   wins  runs  at bat   hit  double  triple  homerun  walk  strikeouts  \\\n",
       "0    95   724    5575  1497     300      42      139   383         973   \n",
       "1    83   696    5467  1349     277      44      156   439        1264   \n",
       "2    81   669    5439  1395     303      29      141   533        1157   \n",
       "3    76   622    5533  1381     260      27      136   404        1231   \n",
       "4    74   689    5605  1515     289      49      151   455        1259   \n",
       "\n",
       "   stolen base  runs allowed  earned runs  earned run average  complete games  \\\n",
       "0          104           641          601                3.73               2   \n",
       "1           70           700          653                4.07               2   \n",
       "2           86           640          584                3.67              11   \n",
       "3           68           701          643                3.98               7   \n",
       "4           83           803          746                4.64               7   \n",
       "\n",
       "   shutouts  saves  errors  \n",
       "0         8     56      88  \n",
       "1        12     45      86  \n",
       "2        10     38      79  \n",
       "3         9     37     101  \n",
       "4        12     35      86  "
      ]
     },
     "execution_count": 9,
     "metadata": {},
     "output_type": "execute_result"
    }
   ],
   "source": [
    "df.head()"
   ]
  },
  {
   "cell_type": "code",
   "execution_count": 4,
   "metadata": {},
   "outputs": [
    {
     "data": {
      "text/html": [
       "<div>\n",
       "<style scoped>\n",
       "    .dataframe tbody tr th:only-of-type {\n",
       "        vertical-align: middle;\n",
       "    }\n",
       "\n",
       "    .dataframe tbody tr th {\n",
       "        vertical-align: top;\n",
       "    }\n",
       "\n",
       "    .dataframe thead th {\n",
       "        text-align: right;\n",
       "    }\n",
       "</style>\n",
       "<table border=\"1\" class=\"dataframe\">\n",
       "  <thead>\n",
       "    <tr style=\"text-align: right;\">\n",
       "      <th></th>\n",
       "      <th>W</th>\n",
       "      <th>R</th>\n",
       "      <th>AB</th>\n",
       "      <th>H</th>\n",
       "      <th>2B</th>\n",
       "      <th>3B</th>\n",
       "      <th>HR</th>\n",
       "      <th>BB</th>\n",
       "      <th>SO</th>\n",
       "      <th>SB</th>\n",
       "      <th>RA</th>\n",
       "      <th>ER</th>\n",
       "      <th>ERA</th>\n",
       "      <th>CG</th>\n",
       "      <th>SHO</th>\n",
       "      <th>SV</th>\n",
       "      <th>E</th>\n",
       "    </tr>\n",
       "  </thead>\n",
       "  <tbody>\n",
       "    <tr>\n",
       "      <th>count</th>\n",
       "      <td>30.000000</td>\n",
       "      <td>30.000000</td>\n",
       "      <td>30.000000</td>\n",
       "      <td>30.000000</td>\n",
       "      <td>30.000000</td>\n",
       "      <td>30.000000</td>\n",
       "      <td>30.000000</td>\n",
       "      <td>30.000000</td>\n",
       "      <td>30.00000</td>\n",
       "      <td>30.000000</td>\n",
       "      <td>30.000000</td>\n",
       "      <td>30.000000</td>\n",
       "      <td>30.000000</td>\n",
       "      <td>30.000000</td>\n",
       "      <td>30.000000</td>\n",
       "      <td>30.000000</td>\n",
       "      <td>30.000000</td>\n",
       "    </tr>\n",
       "    <tr>\n",
       "      <th>mean</th>\n",
       "      <td>80.966667</td>\n",
       "      <td>688.233333</td>\n",
       "      <td>5516.266667</td>\n",
       "      <td>1403.533333</td>\n",
       "      <td>274.733333</td>\n",
       "      <td>31.300000</td>\n",
       "      <td>163.633333</td>\n",
       "      <td>469.100000</td>\n",
       "      <td>1248.20000</td>\n",
       "      <td>83.500000</td>\n",
       "      <td>688.233333</td>\n",
       "      <td>635.833333</td>\n",
       "      <td>3.956333</td>\n",
       "      <td>3.466667</td>\n",
       "      <td>11.300000</td>\n",
       "      <td>43.066667</td>\n",
       "      <td>94.333333</td>\n",
       "    </tr>\n",
       "    <tr>\n",
       "      <th>std</th>\n",
       "      <td>10.453455</td>\n",
       "      <td>58.761754</td>\n",
       "      <td>70.467372</td>\n",
       "      <td>57.140923</td>\n",
       "      <td>18.095405</td>\n",
       "      <td>10.452355</td>\n",
       "      <td>31.823309</td>\n",
       "      <td>57.053725</td>\n",
       "      <td>103.75947</td>\n",
       "      <td>22.815225</td>\n",
       "      <td>72.108005</td>\n",
       "      <td>70.140786</td>\n",
       "      <td>0.454089</td>\n",
       "      <td>2.763473</td>\n",
       "      <td>4.120177</td>\n",
       "      <td>7.869335</td>\n",
       "      <td>13.958889</td>\n",
       "    </tr>\n",
       "    <tr>\n",
       "      <th>min</th>\n",
       "      <td>63.000000</td>\n",
       "      <td>573.000000</td>\n",
       "      <td>5385.000000</td>\n",
       "      <td>1324.000000</td>\n",
       "      <td>236.000000</td>\n",
       "      <td>13.000000</td>\n",
       "      <td>100.000000</td>\n",
       "      <td>375.000000</td>\n",
       "      <td>973.00000</td>\n",
       "      <td>44.000000</td>\n",
       "      <td>525.000000</td>\n",
       "      <td>478.000000</td>\n",
       "      <td>2.940000</td>\n",
       "      <td>0.000000</td>\n",
       "      <td>4.000000</td>\n",
       "      <td>28.000000</td>\n",
       "      <td>75.000000</td>\n",
       "    </tr>\n",
       "    <tr>\n",
       "      <th>25%</th>\n",
       "      <td>74.000000</td>\n",
       "      <td>651.250000</td>\n",
       "      <td>5464.000000</td>\n",
       "      <td>1363.000000</td>\n",
       "      <td>262.250000</td>\n",
       "      <td>23.000000</td>\n",
       "      <td>140.250000</td>\n",
       "      <td>428.250000</td>\n",
       "      <td>1157.50000</td>\n",
       "      <td>69.000000</td>\n",
       "      <td>636.250000</td>\n",
       "      <td>587.250000</td>\n",
       "      <td>3.682500</td>\n",
       "      <td>1.000000</td>\n",
       "      <td>9.000000</td>\n",
       "      <td>37.250000</td>\n",
       "      <td>86.000000</td>\n",
       "    </tr>\n",
       "    <tr>\n",
       "      <th>50%</th>\n",
       "      <td>81.000000</td>\n",
       "      <td>689.000000</td>\n",
       "      <td>5510.000000</td>\n",
       "      <td>1382.500000</td>\n",
       "      <td>275.500000</td>\n",
       "      <td>31.000000</td>\n",
       "      <td>158.500000</td>\n",
       "      <td>473.000000</td>\n",
       "      <td>1261.50000</td>\n",
       "      <td>83.500000</td>\n",
       "      <td>695.500000</td>\n",
       "      <td>644.500000</td>\n",
       "      <td>4.025000</td>\n",
       "      <td>3.000000</td>\n",
       "      <td>12.000000</td>\n",
       "      <td>42.000000</td>\n",
       "      <td>91.000000</td>\n",
       "    </tr>\n",
       "    <tr>\n",
       "      <th>75%</th>\n",
       "      <td>87.750000</td>\n",
       "      <td>718.250000</td>\n",
       "      <td>5570.000000</td>\n",
       "      <td>1451.500000</td>\n",
       "      <td>288.750000</td>\n",
       "      <td>39.000000</td>\n",
       "      <td>177.000000</td>\n",
       "      <td>501.250000</td>\n",
       "      <td>1311.50000</td>\n",
       "      <td>96.500000</td>\n",
       "      <td>732.500000</td>\n",
       "      <td>679.250000</td>\n",
       "      <td>4.220000</td>\n",
       "      <td>5.750000</td>\n",
       "      <td>13.000000</td>\n",
       "      <td>46.750000</td>\n",
       "      <td>96.750000</td>\n",
       "    </tr>\n",
       "    <tr>\n",
       "      <th>max</th>\n",
       "      <td>100.000000</td>\n",
       "      <td>891.000000</td>\n",
       "      <td>5649.000000</td>\n",
       "      <td>1515.000000</td>\n",
       "      <td>308.000000</td>\n",
       "      <td>49.000000</td>\n",
       "      <td>232.000000</td>\n",
       "      <td>570.000000</td>\n",
       "      <td>1518.00000</td>\n",
       "      <td>134.000000</td>\n",
       "      <td>844.000000</td>\n",
       "      <td>799.000000</td>\n",
       "      <td>5.040000</td>\n",
       "      <td>11.000000</td>\n",
       "      <td>21.000000</td>\n",
       "      <td>62.000000</td>\n",
       "      <td>126.000000</td>\n",
       "    </tr>\n",
       "  </tbody>\n",
       "</table>\n",
       "</div>"
      ],
      "text/plain": [
       "                W           R           AB            H          2B  \\\n",
       "count   30.000000   30.000000    30.000000    30.000000   30.000000   \n",
       "mean    80.966667  688.233333  5516.266667  1403.533333  274.733333   \n",
       "std     10.453455   58.761754    70.467372    57.140923   18.095405   \n",
       "min     63.000000  573.000000  5385.000000  1324.000000  236.000000   \n",
       "25%     74.000000  651.250000  5464.000000  1363.000000  262.250000   \n",
       "50%     81.000000  689.000000  5510.000000  1382.500000  275.500000   \n",
       "75%     87.750000  718.250000  5570.000000  1451.500000  288.750000   \n",
       "max    100.000000  891.000000  5649.000000  1515.000000  308.000000   \n",
       "\n",
       "              3B          HR          BB          SO          SB          RA  \\\n",
       "count  30.000000   30.000000   30.000000    30.00000   30.000000   30.000000   \n",
       "mean   31.300000  163.633333  469.100000  1248.20000   83.500000  688.233333   \n",
       "std    10.452355   31.823309   57.053725   103.75947   22.815225   72.108005   \n",
       "min    13.000000  100.000000  375.000000   973.00000   44.000000  525.000000   \n",
       "25%    23.000000  140.250000  428.250000  1157.50000   69.000000  636.250000   \n",
       "50%    31.000000  158.500000  473.000000  1261.50000   83.500000  695.500000   \n",
       "75%    39.000000  177.000000  501.250000  1311.50000   96.500000  732.500000   \n",
       "max    49.000000  232.000000  570.000000  1518.00000  134.000000  844.000000   \n",
       "\n",
       "               ER        ERA         CG        SHO         SV           E  \n",
       "count   30.000000  30.000000  30.000000  30.000000  30.000000   30.000000  \n",
       "mean   635.833333   3.956333   3.466667  11.300000  43.066667   94.333333  \n",
       "std     70.140786   0.454089   2.763473   4.120177   7.869335   13.958889  \n",
       "min    478.000000   2.940000   0.000000   4.000000  28.000000   75.000000  \n",
       "25%    587.250000   3.682500   1.000000   9.000000  37.250000   86.000000  \n",
       "50%    644.500000   4.025000   3.000000  12.000000  42.000000   91.000000  \n",
       "75%    679.250000   4.220000   5.750000  13.000000  46.750000   96.750000  \n",
       "max    799.000000   5.040000  11.000000  21.000000  62.000000  126.000000  "
      ]
     },
     "execution_count": 4,
     "metadata": {},
     "output_type": "execute_result"
    }
   ],
   "source": [
    "df.describe()"
   ]
  },
  {
   "cell_type": "markdown",
   "metadata": {},
   "source": [
    "Since the scale and values of each column is different, the data need to be scaled properly so that the models can converge efficiently."
   ]
  },
  {
   "cell_type": "code",
   "execution_count": 10,
   "metadata": {},
   "outputs": [
    {
     "data": {
      "text/plain": [
       "wins                    int64\n",
       "runs                    int64\n",
       "at bat                  int64\n",
       "hit                     int64\n",
       "double                  int64\n",
       "triple                  int64\n",
       "homerun                 int64\n",
       "walk                    int64\n",
       "strikeouts              int64\n",
       "stolen base             int64\n",
       "runs allowed            int64\n",
       "earned runs             int64\n",
       "earned run average    float64\n",
       "complete games          int64\n",
       "shutouts                int64\n",
       "saves                   int64\n",
       "errors                  int64\n",
       "dtype: object"
      ]
     },
     "execution_count": 10,
     "metadata": {},
     "output_type": "execute_result"
    }
   ],
   "source": [
    "df.dtypes"
   ]
  },
  {
   "cell_type": "markdown",
   "metadata": {},
   "source": [
    "All the columns are numerical types. No encoding is requried for any of the column. Moreover, there are no missing values in the data."
   ]
  },
  {
   "cell_type": "code",
   "execution_count": 16,
   "metadata": {},
   "outputs": [
    {
     "data": {
      "image/png": "[encoded data removed]",
      "text/plain": [
       "<Figure size 432x288 with 1 Axes>"
      ]
     },
     "metadata": {
      "needs_background": "light"
     },
     "output_type": "display_data"
    },
    {
     "data": {
      "image/png": "[encoded data removed]",
      "text/plain": [
       "<Figure size 432x288 with 1 Axes>"
      ]
     },
     "metadata": {
      "needs_background": "light"
     },
     "output_type": "display_data"
    },
    {
     "data": {
      "image/png": "[encoded data removed]",
      "text/plain": [
       "<Figure size 432x288 with 1 Axes>"
      ]
     },
     "metadata": {
      "needs_background": "light"
     },
     "output_type": "display_data"
    },
    {
     "data": {
      "image/png": "[encoded data removed]",
      "text/plain": [
       "<Figure size 432x288 with 1 Axes>"
      ]
     },
     "metadata": {
      "needs_background": "light"
     },
     "output_type": "display_data"
    },
    {
     "data": {
      "image/png": "[encoded data removed]",
      "text/plain": [
       "<Figure size 432x288 with 1 Axes>"
      ]
     },
     "metadata": {
      "needs_background": "light"
     },
     "output_type": "display_data"
    },
    {
     "data": {
      "image/png": "[encoded data removed]",
      "text/plain": [
       "<Figure size 432x288 with 1 Axes>"
      ]
     },
     "metadata": {
      "needs_background": "light"
     },
     "output_type": "display_data"
    },
    {
     "data": {
      "image/png": "[encoded data removed]",
      "text/plain": [
       "<Figure size 432x288 with 1 Axes>"
      ]
     },
     "metadata": {
      "needs_background": "light"
     },
     "output_type": "display_data"
    },
    {
     "data": {
      "image/png": "[encoded data removed]",
      "text/plain": [
       "<Figure size 432x288 with 1 Axes>"
      ]
     },
     "metadata": {
      "needs_background": "light"
     },
     "output_type": "display_data"
    },
    {
     "data": {
      "image/png": "[encoded data removed]",
      "text/plain": [
       "<Figure size 432x288 with 1 Axes>"
      ]
     },
     "metadata": {
      "needs_background": "light"
     },
     "output_type": "display_data"
    },
    {
     "data": {
      "image/png": "[encoded data removed]",
      "text/plain": [
       "<Figure size 432x288 with 1 Axes>"
      ]
     },
     "metadata": {
      "needs_background": "light"
     },
     "output_type": "display_data"
    },
    {
     "data": {
      "image/png": "[encoded data removed]",
      "text/plain": [
       "<Figure size 432x288 with 1 Axes>"
      ]
     },
     "metadata": {
      "needs_background": "light"
     },
     "output_type": "display_data"
    },
    {
     "data": {
      "image/png": "[encoded data removed]",
      "text/plain": [
       "<Figure size 432x288 with 1 Axes>"
      ]
     },
     "metadata": {
      "needs_background": "light"
     },
     "output_type": "display_data"
    },
    {
     "data": {
      "image/png": "[encoded data removed]",
      "text/plain": [
       "<Figure size 432x288 with 1 Axes>"
      ]
     },
     "metadata": {
      "needs_background": "light"
     },
     "output_type": "display_data"
    },
    {
     "data": {
      "image/png": "[encoded data removed]",
      "text/plain": [
       "<Figure size 432x288 with 1 Axes>"
      ]
     },
     "metadata": {
      "needs_background": "light"
     },
     "output_type": "display_data"
    },
    {
     "data": {
      "image/png": "[encoded data removed]",
      "text/plain": [
       "<Figure size 432x288 with 1 Axes>"
      ]
     },
     "metadata": {
      "needs_background": "light"
     },
     "output_type": "display_data"
    },
    {
     "data": {
      "image/png": "[encoded data removed]",
      "text/plain": [
       "<Figure size 432x288 with 1 Axes>"
      ]
     },
     "metadata": {
      "needs_background": "light"
     },
     "output_type": "display_data"
    },
    {
     "data": {
      "image/png": "[encoded data removed]",
      "text/plain": [
       "<Figure size 432x288 with 1 Axes>"
      ]
     },
     "metadata": {
      "needs_background": "light"
     },
     "output_type": "display_data"
    }
   ],
   "source": [
    "import matplotlib.pyplot as plt\n",
    "#num_df = df.drop([\"Country\", \"Region\"], axis = 1)\n",
    "#plt.figure()\n",
    "num_feat = columns\n",
    "for i in num_feat:\n",
    "    plt.figure()\n",
    "    plt.title(i)\n",
    "    df[i].diff().hist(color='g', alpha=1, bins=15)"
   ]
  },
  {
   "cell_type": "markdown",
   "metadata": {},
   "source": [
    "Since the number of instances are very small, it hard to analyze the distribution of data. The data of wins, runs, at bat, hit, triple, walk, strikeout, stolen base, runs allowed, earned runs, earned run average, complete games, shutouts, saves, errors has distribution which look like normal distribution."
   ]
  },
  {
   "cell_type": "code",
   "execution_count": 226,
   "metadata": {},
   "outputs": [
    {
     "data": {
      "text/html": [
       "<div>\n",
       "<style scoped>\n",
       "    .dataframe tbody tr th:only-of-type {\n",
       "        vertical-align: middle;\n",
       "    }\n",
       "\n",
       "    .dataframe tbody tr th {\n",
       "        vertical-align: top;\n",
       "    }\n",
       "\n",
       "    .dataframe thead th {\n",
       "        text-align: right;\n",
       "    }\n",
       "</style>\n",
       "<table border=\"1\" class=\"dataframe\">\n",
       "  <thead>\n",
       "    <tr style=\"text-align: right;\">\n",
       "      <th></th>\n",
       "      <th>wins</th>\n",
       "      <th>runs</th>\n",
       "      <th>at bat</th>\n",
       "      <th>hit</th>\n",
       "      <th>double</th>\n",
       "      <th>triple</th>\n",
       "      <th>homerun</th>\n",
       "      <th>walk</th>\n",
       "      <th>strikeouts</th>\n",
       "      <th>stolen base</th>\n",
       "      <th>runs allowed</th>\n",
       "      <th>earned runs</th>\n",
       "      <th>earned run average</th>\n",
       "      <th>complete games</th>\n",
       "      <th>shutouts</th>\n",
       "      <th>saves</th>\n",
       "      <th>errors</th>\n",
       "    </tr>\n",
       "  </thead>\n",
       "  <tbody>\n",
       "    <tr>\n",
       "      <th>wins</th>\n",
       "      <td>1.000000</td>\n",
       "      <td>0.437042</td>\n",
       "      <td>-0.087947</td>\n",
       "      <td>0.036473</td>\n",
       "      <td>0.427797</td>\n",
       "      <td>-0.251118</td>\n",
       "      <td>0.307407</td>\n",
       "      <td>0.484342</td>\n",
       "      <td>0.111850</td>\n",
       "      <td>-0.157234</td>\n",
       "      <td>-0.812952</td>\n",
       "      <td>-0.809435</td>\n",
       "      <td>-0.819600</td>\n",
       "      <td>0.044033</td>\n",
       "      <td>0.456587</td>\n",
       "      <td>0.668750</td>\n",
       "      <td>-0.089862</td>\n",
       "    </tr>\n",
       "    <tr>\n",
       "      <th>runs</th>\n",
       "      <td>0.437042</td>\n",
       "      <td>1.000000</td>\n",
       "      <td>0.329208</td>\n",
       "      <td>0.482887</td>\n",
       "      <td>0.563761</td>\n",
       "      <td>-0.057576</td>\n",
       "      <td>0.674257</td>\n",
       "      <td>0.399370</td>\n",
       "      <td>-0.042807</td>\n",
       "      <td>0.081302</td>\n",
       "      <td>-0.046552</td>\n",
       "      <td>-0.045141</td>\n",
       "      <td>-0.053940</td>\n",
       "      <td>0.243938</td>\n",
       "      <td>-0.113007</td>\n",
       "      <td>-0.085870</td>\n",
       "      <td>-0.019377</td>\n",
       "    </tr>\n",
       "    <tr>\n",
       "      <th>at bat</th>\n",
       "      <td>-0.087947</td>\n",
       "      <td>0.329208</td>\n",
       "      <td>1.000000</td>\n",
       "      <td>0.739633</td>\n",
       "      <td>0.453370</td>\n",
       "      <td>0.435422</td>\n",
       "      <td>-0.066983</td>\n",
       "      <td>-0.136414</td>\n",
       "      <td>-0.106022</td>\n",
       "      <td>0.372618</td>\n",
       "      <td>0.316010</td>\n",
       "      <td>0.309686</td>\n",
       "      <td>0.255551</td>\n",
       "      <td>-0.067194</td>\n",
       "      <td>-0.192916</td>\n",
       "      <td>-0.120051</td>\n",
       "      <td>0.319528</td>\n",
       "    </tr>\n",
       "    <tr>\n",
       "      <th>hit</th>\n",
       "      <td>0.036473</td>\n",
       "      <td>0.482887</td>\n",
       "      <td>0.739633</td>\n",
       "      <td>1.000000</td>\n",
       "      <td>0.566556</td>\n",
       "      <td>0.477656</td>\n",
       "      <td>-0.091089</td>\n",
       "      <td>-0.118073</td>\n",
       "      <td>-0.399528</td>\n",
       "      <td>0.414587</td>\n",
       "      <td>0.223862</td>\n",
       "      <td>0.252199</td>\n",
       "      <td>0.230901</td>\n",
       "      <td>0.105782</td>\n",
       "      <td>-0.134671</td>\n",
       "      <td>-0.141944</td>\n",
       "      <td>-0.032870</td>\n",
       "    </tr>\n",
       "    <tr>\n",
       "      <th>double</th>\n",
       "      <td>0.427797</td>\n",
       "      <td>0.563761</td>\n",
       "      <td>0.453370</td>\n",
       "      <td>0.566556</td>\n",
       "      <td>1.000000</td>\n",
       "      <td>0.220490</td>\n",
       "      <td>0.056292</td>\n",
       "      <td>0.302700</td>\n",
       "      <td>-0.150752</td>\n",
       "      <td>0.195027</td>\n",
       "      <td>-0.218160</td>\n",
       "      <td>-0.235531</td>\n",
       "      <td>-0.254854</td>\n",
       "      <td>0.309868</td>\n",
       "      <td>0.067623</td>\n",
       "      <td>0.157959</td>\n",
       "      <td>0.107678</td>\n",
       "    </tr>\n",
       "    <tr>\n",
       "      <th>triple</th>\n",
       "      <td>-0.251118</td>\n",
       "      <td>-0.057576</td>\n",
       "      <td>0.435422</td>\n",
       "      <td>0.477656</td>\n",
       "      <td>0.220490</td>\n",
       "      <td>1.000000</td>\n",
       "      <td>-0.430915</td>\n",
       "      <td>-0.454949</td>\n",
       "      <td>-0.141196</td>\n",
       "      <td>0.457437</td>\n",
       "      <td>0.314125</td>\n",
       "      <td>0.340225</td>\n",
       "      <td>0.330951</td>\n",
       "      <td>-0.047157</td>\n",
       "      <td>-0.054034</td>\n",
       "      <td>-0.164003</td>\n",
       "      <td>0.121023</td>\n",
       "    </tr>\n",
       "    <tr>\n",
       "      <th>homerun</th>\n",
       "      <td>0.307407</td>\n",
       "      <td>0.674257</td>\n",
       "      <td>-0.066983</td>\n",
       "      <td>-0.091089</td>\n",
       "      <td>0.056292</td>\n",
       "      <td>-0.430915</td>\n",
       "      <td>1.000000</td>\n",
       "      <td>0.425691</td>\n",
       "      <td>0.359923</td>\n",
       "      <td>-0.136567</td>\n",
       "      <td>-0.103903</td>\n",
       "      <td>-0.085922</td>\n",
       "      <td>-0.090917</td>\n",
       "      <td>0.180743</td>\n",
       "      <td>-0.045328</td>\n",
       "      <td>-0.016546</td>\n",
       "      <td>-0.203139</td>\n",
       "    </tr>\n",
       "    <tr>\n",
       "      <th>walk</th>\n",
       "      <td>0.484342</td>\n",
       "      <td>0.399370</td>\n",
       "      <td>-0.136414</td>\n",
       "      <td>-0.118073</td>\n",
       "      <td>0.302700</td>\n",
       "      <td>-0.454949</td>\n",
       "      <td>0.425691</td>\n",
       "      <td>1.000000</td>\n",
       "      <td>0.233652</td>\n",
       "      <td>-0.098347</td>\n",
       "      <td>-0.416445</td>\n",
       "      <td>-0.452663</td>\n",
       "      <td>-0.459832</td>\n",
       "      <td>0.483682</td>\n",
       "      <td>0.394866</td>\n",
       "      <td>0.105673</td>\n",
       "      <td>-0.075777</td>\n",
       "    </tr>\n",
       "    <tr>\n",
       "      <th>strikeouts</th>\n",
       "      <td>0.111850</td>\n",
       "      <td>-0.042807</td>\n",
       "      <td>-0.106022</td>\n",
       "      <td>-0.399528</td>\n",
       "      <td>-0.150752</td>\n",
       "      <td>-0.141196</td>\n",
       "      <td>0.359923</td>\n",
       "      <td>0.233652</td>\n",
       "      <td>1.000000</td>\n",
       "      <td>0.030968</td>\n",
       "      <td>-0.129745</td>\n",
       "      <td>-0.161612</td>\n",
       "      <td>-0.180368</td>\n",
       "      <td>-0.101641</td>\n",
       "      <td>0.204442</td>\n",
       "      <td>0.141248</td>\n",
       "      <td>0.159771</td>\n",
       "    </tr>\n",
       "    <tr>\n",
       "      <th>stolen base</th>\n",
       "      <td>-0.157234</td>\n",
       "      <td>0.081302</td>\n",
       "      <td>0.372618</td>\n",
       "      <td>0.414587</td>\n",
       "      <td>0.195027</td>\n",
       "      <td>0.457437</td>\n",
       "      <td>-0.136567</td>\n",
       "      <td>-0.098347</td>\n",
       "      <td>0.030968</td>\n",
       "      <td>1.000000</td>\n",
       "      <td>0.132290</td>\n",
       "      <td>0.143068</td>\n",
       "      <td>0.126063</td>\n",
       "      <td>-0.029412</td>\n",
       "      <td>-0.100203</td>\n",
       "      <td>-0.191045</td>\n",
       "      <td>0.076898</td>\n",
       "    </tr>\n",
       "    <tr>\n",
       "      <th>runs allowed</th>\n",
       "      <td>-0.812952</td>\n",
       "      <td>-0.046552</td>\n",
       "      <td>0.316010</td>\n",
       "      <td>0.223862</td>\n",
       "      <td>-0.218160</td>\n",
       "      <td>0.314125</td>\n",
       "      <td>-0.103903</td>\n",
       "      <td>-0.416445</td>\n",
       "      <td>-0.129745</td>\n",
       "      <td>0.132290</td>\n",
       "      <td>1.000000</td>\n",
       "      <td>0.991018</td>\n",
       "      <td>0.986674</td>\n",
       "      <td>0.058021</td>\n",
       "      <td>-0.638352</td>\n",
       "      <td>-0.609606</td>\n",
       "      <td>0.205315</td>\n",
       "    </tr>\n",
       "    <tr>\n",
       "      <th>earned runs</th>\n",
       "      <td>-0.809435</td>\n",
       "      <td>-0.045141</td>\n",
       "      <td>0.309686</td>\n",
       "      <td>0.252199</td>\n",
       "      <td>-0.235531</td>\n",
       "      <td>0.340225</td>\n",
       "      <td>-0.085922</td>\n",
       "      <td>-0.452663</td>\n",
       "      <td>-0.161612</td>\n",
       "      <td>0.143068</td>\n",
       "      <td>0.991018</td>\n",
       "      <td>1.000000</td>\n",
       "      <td>0.997248</td>\n",
       "      <td>0.055902</td>\n",
       "      <td>-0.634158</td>\n",
       "      <td>-0.582688</td>\n",
       "      <td>0.142781</td>\n",
       "    </tr>\n",
       "    <tr>\n",
       "      <th>earned run average</th>\n",
       "      <td>-0.819600</td>\n",
       "      <td>-0.053940</td>\n",
       "      <td>0.255551</td>\n",
       "      <td>0.230901</td>\n",
       "      <td>-0.254854</td>\n",
       "      <td>0.330951</td>\n",
       "      <td>-0.090917</td>\n",
       "      <td>-0.459832</td>\n",
       "      <td>-0.180368</td>\n",
       "      <td>0.126063</td>\n",
       "      <td>0.986674</td>\n",
       "      <td>0.997248</td>\n",
       "      <td>1.000000</td>\n",
       "      <td>0.063768</td>\n",
       "      <td>-0.635185</td>\n",
       "      <td>-0.599883</td>\n",
       "      <td>0.118367</td>\n",
       "    </tr>\n",
       "    <tr>\n",
       "      <th>complete games</th>\n",
       "      <td>0.044033</td>\n",
       "      <td>0.243938</td>\n",
       "      <td>-0.067194</td>\n",
       "      <td>0.105782</td>\n",
       "      <td>0.309868</td>\n",
       "      <td>-0.047157</td>\n",
       "      <td>0.180743</td>\n",
       "      <td>0.483682</td>\n",
       "      <td>-0.101641</td>\n",
       "      <td>-0.029412</td>\n",
       "      <td>0.058021</td>\n",
       "      <td>0.055902</td>\n",
       "      <td>0.063768</td>\n",
       "      <td>1.000000</td>\n",
       "      <td>0.168923</td>\n",
       "      <td>-0.326646</td>\n",
       "      <td>-0.080880</td>\n",
       "    </tr>\n",
       "    <tr>\n",
       "      <th>shutouts</th>\n",
       "      <td>0.456587</td>\n",
       "      <td>-0.113007</td>\n",
       "      <td>-0.192916</td>\n",
       "      <td>-0.134671</td>\n",
       "      <td>0.067623</td>\n",
       "      <td>-0.054034</td>\n",
       "      <td>-0.045328</td>\n",
       "      <td>0.394866</td>\n",
       "      <td>0.204442</td>\n",
       "      <td>-0.100203</td>\n",
       "      <td>-0.638352</td>\n",
       "      <td>-0.634158</td>\n",
       "      <td>-0.635185</td>\n",
       "      <td>0.168923</td>\n",
       "      <td>1.000000</td>\n",
       "      <td>0.210556</td>\n",
       "      <td>-0.134936</td>\n",
       "    </tr>\n",
       "    <tr>\n",
       "      <th>saves</th>\n",
       "      <td>0.668750</td>\n",
       "      <td>-0.085870</td>\n",
       "      <td>-0.120051</td>\n",
       "      <td>-0.141944</td>\n",
       "      <td>0.157959</td>\n",
       "      <td>-0.164003</td>\n",
       "      <td>-0.016546</td>\n",
       "      <td>0.105673</td>\n",
       "      <td>0.141248</td>\n",
       "      <td>-0.191045</td>\n",
       "      <td>-0.609606</td>\n",
       "      <td>-0.582688</td>\n",
       "      <td>-0.599883</td>\n",
       "      <td>-0.326646</td>\n",
       "      <td>0.210556</td>\n",
       "      <td>1.000000</td>\n",
       "      <td>-0.034755</td>\n",
       "    </tr>\n",
       "    <tr>\n",
       "      <th>errors</th>\n",
       "      <td>-0.089862</td>\n",
       "      <td>-0.019377</td>\n",
       "      <td>0.319528</td>\n",
       "      <td>-0.032870</td>\n",
       "      <td>0.107678</td>\n",
       "      <td>0.121023</td>\n",
       "      <td>-0.203139</td>\n",
       "      <td>-0.075777</td>\n",
       "      <td>0.159771</td>\n",
       "      <td>0.076898</td>\n",
       "      <td>0.205315</td>\n",
       "      <td>0.142781</td>\n",
       "      <td>0.118367</td>\n",
       "      <td>-0.080880</td>\n",
       "      <td>-0.134936</td>\n",
       "      <td>-0.034755</td>\n",
       "      <td>1.000000</td>\n",
       "    </tr>\n",
       "  </tbody>\n",
       "</table>\n",
       "</div>"
      ],
      "text/plain": [
       "                        wins      runs    at bat       hit    double  \\\n",
       "wins                1.000000  0.437042 -0.087947  0.036473  0.427797   \n",
       "runs                0.437042  1.000000  0.329208  0.482887  0.563761   \n",
       "at bat             -0.087947  0.329208  1.000000  0.739633  0.453370   \n",
       "hit                 0.036473  0.482887  0.739633  1.000000  0.566556   \n",
       "double              0.427797  0.563761  0.453370  0.566556  1.000000   \n",
       "triple             -0.251118 -0.057576  0.435422  0.477656  0.220490   \n",
       "homerun             0.307407  0.674257 -0.066983 -0.091089  0.056292   \n",
       "walk                0.484342  0.399370 -0.136414 -0.118073  0.302700   \n",
       "strikeouts          0.111850 -0.042807 -0.106022 -0.399528 -0.150752   \n",
       "stolen base        -0.157234  0.081302  0.372618  0.414587  0.195027   \n",
       "runs allowed       -0.812952 -0.046552  0.316010  0.223862 -0.218160   \n",
       "earned runs        -0.809435 -0.045141  0.309686  0.252199 -0.235531   \n",
       "earned run average -0.819600 -0.053940  0.255551  0.230901 -0.254854   \n",
       "complete games      0.044033  0.243938 -0.067194  0.105782  0.309868   \n",
       "shutouts            0.456587 -0.113007 -0.192916 -0.134671  0.067623   \n",
       "saves               0.668750 -0.085870 -0.120051 -0.141944  0.157959   \n",
       "errors             -0.089862 -0.019377  0.319528 -0.032870  0.107678   \n",
       "\n",
       "                      triple   homerun      walk  strikeouts  stolen base  \\\n",
       "wins               -0.251118  0.307407  0.484342    0.111850    -0.157234   \n",
       "runs               -0.057576  0.674257  0.399370   -0.042807     0.081302   \n",
       "at bat              0.435422 -0.066983 -0.136414   -0.106022     0.372618   \n",
       "hit                 0.477656 -0.091089 -0.118073   -0.399528     0.414587   \n",
       "double              0.220490  0.056292  0.302700   -0.150752     0.195027   \n",
       "triple              1.000000 -0.430915 -0.454949   -0.141196     0.457437   \n",
       "homerun            -0.430915  1.000000  0.425691    0.359923    -0.136567   \n",
       "walk               -0.454949  0.425691  1.000000    0.233652    -0.098347   \n",
       "strikeouts         -0.141196  0.359923  0.233652    1.000000     0.030968   \n",
       "stolen base         0.457437 -0.136567 -0.098347    0.030968     1.000000   \n",
       "runs allowed        0.314125 -0.103903 -0.416445   -0.129745     0.132290   \n",
       "earned runs         0.340225 -0.085922 -0.452663   -0.161612     0.143068   \n",
       "earned run average  0.330951 -0.090917 -0.459832   -0.180368     0.126063   \n",
       "complete games     -0.047157  0.180743  0.483682   -0.101641    -0.029412   \n",
       "shutouts           -0.054034 -0.045328  0.394866    0.204442    -0.100203   \n",
       "saves              -0.164003 -0.016546  0.105673    0.141248    -0.191045   \n",
       "errors              0.121023 -0.203139 -0.075777    0.159771     0.076898   \n",
       "\n",
       "                    runs allowed  earned runs  earned run average  \\\n",
       "wins                   -0.812952    -0.809435           -0.819600   \n",
       "runs                   -0.046552    -0.045141           -0.053940   \n",
       "at bat                  0.316010     0.309686            0.255551   \n",
       "hit                     0.223862     0.252199            0.230901   \n",
       "double                 -0.218160    -0.235531           -0.254854   \n",
       "triple                  0.314125     0.340225            0.330951   \n",
       "homerun                -0.103903    -0.085922           -0.090917   \n",
       "walk                   -0.416445    -0.452663           -0.459832   \n",
       "strikeouts             -0.129745    -0.161612           -0.180368   \n",
       "stolen base             0.132290     0.143068            0.126063   \n",
       "runs allowed            1.000000     0.991018            0.986674   \n",
       "earned runs             0.991018     1.000000            0.997248   \n",
       "earned run average      0.986674     0.997248            1.000000   \n",
       "complete games          0.058021     0.055902            0.063768   \n",
       "shutouts               -0.638352    -0.634158           -0.635185   \n",
       "saves                  -0.609606    -0.582688           -0.599883   \n",
       "errors                  0.205315     0.142781            0.118367   \n",
       "\n",
       "                    complete games  shutouts     saves    errors  \n",
       "wins                      0.044033  0.456587  0.668750 -0.089862  \n",
       "runs                      0.243938 -0.113007 -0.085870 -0.019377  \n",
       "at bat                   -0.067194 -0.192916 -0.120051  0.319528  \n",
       "hit                       0.105782 -0.134671 -0.141944 -0.032870  \n",
       "double                    0.309868  0.067623  0.157959  0.107678  \n",
       "triple                   -0.047157 -0.054034 -0.164003  0.121023  \n",
       "homerun                   0.180743 -0.045328 -0.016546 -0.203139  \n",
       "walk                      0.483682  0.394866  0.105673 -0.075777  \n",
       "strikeouts               -0.101641  0.204442  0.141248  0.159771  \n",
       "stolen base              -0.029412 -0.100203 -0.191045  0.076898  \n",
       "runs allowed              0.058021 -0.638352 -0.609606  0.205315  \n",
       "earned runs               0.055902 -0.634158 -0.582688  0.142781  \n",
       "earned run average        0.063768 -0.635185 -0.599883  0.118367  \n",
       "complete games            1.000000  0.168923 -0.326646 -0.080880  \n",
       "shutouts                  0.168923  1.000000  0.210556 -0.134936  \n",
       "saves                    -0.326646  0.210556  1.000000 -0.034755  \n",
       "errors                   -0.080880 -0.134936 -0.034755  1.000000  "
      ]
     },
     "execution_count": 226,
     "metadata": {},
     "output_type": "execute_result"
    }
   ],
   "source": [
    "df.corr()"
   ]
  },
  {
   "cell_type": "markdown",
   "metadata": {},
   "source": [
    "None of the two features has high correlation."
   ]
  },
  {
   "cell_type": "code",
   "execution_count": 19,
   "metadata": {},
   "outputs": [
    {
     "data": {
      "text/html": [
       "<div>\n",
       "<style scoped>\n",
       "    .dataframe tbody tr th:only-of-type {\n",
       "        vertical-align: middle;\n",
       "    }\n",
       "\n",
       "    .dataframe tbody tr th {\n",
       "        vertical-align: top;\n",
       "    }\n",
       "\n",
       "    .dataframe thead th {\n",
       "        text-align: right;\n",
       "    }\n",
       "</style>\n",
       "<table border=\"1\" class=\"dataframe\">\n",
       "  <thead>\n",
       "    <tr style=\"text-align: right;\">\n",
       "      <th></th>\n",
       "      <th>skew</th>\n",
       "      <th>kurtosis</th>\n",
       "    </tr>\n",
       "  </thead>\n",
       "  <tbody>\n",
       "    <tr>\n",
       "      <th>wins</th>\n",
       "      <td>0.047089</td>\n",
       "      <td>-0.874262</td>\n",
       "    </tr>\n",
       "    <tr>\n",
       "      <th>runs</th>\n",
       "      <td>1.200786</td>\n",
       "      <td>3.860870</td>\n",
       "    </tr>\n",
       "    <tr>\n",
       "      <th>at bat</th>\n",
       "      <td>0.183437</td>\n",
       "      <td>-0.772079</td>\n",
       "    </tr>\n",
       "    <tr>\n",
       "      <th>hit</th>\n",
       "      <td>0.670254</td>\n",
       "      <td>-0.890236</td>\n",
       "    </tr>\n",
       "    <tr>\n",
       "      <th>double</th>\n",
       "      <td>-0.230650</td>\n",
       "      <td>-0.440185</td>\n",
       "    </tr>\n",
       "    <tr>\n",
       "      <th>triple</th>\n",
       "      <td>0.129502</td>\n",
       "      <td>-0.984966</td>\n",
       "    </tr>\n",
       "    <tr>\n",
       "      <th>homerun</th>\n",
       "      <td>0.516441</td>\n",
       "      <td>0.016806</td>\n",
       "    </tr>\n",
       "    <tr>\n",
       "      <th>walk</th>\n",
       "      <td>0.158498</td>\n",
       "      <td>-0.798272</td>\n",
       "    </tr>\n",
       "    <tr>\n",
       "      <th>strikeouts</th>\n",
       "      <td>-0.156065</td>\n",
       "      <td>1.401705</td>\n",
       "    </tr>\n",
       "    <tr>\n",
       "      <th>stolen base</th>\n",
       "      <td>0.479893</td>\n",
       "      <td>-0.071247</td>\n",
       "    </tr>\n",
       "    <tr>\n",
       "      <th>runs allowed</th>\n",
       "      <td>0.045734</td>\n",
       "      <td>-0.122570</td>\n",
       "    </tr>\n",
       "    <tr>\n",
       "      <th>earned runs</th>\n",
       "      <td>0.058710</td>\n",
       "      <td>0.175988</td>\n",
       "    </tr>\n",
       "    <tr>\n",
       "      <th>earned run average</th>\n",
       "      <td>0.053331</td>\n",
       "      <td>0.341766</td>\n",
       "    </tr>\n",
       "    <tr>\n",
       "      <th>complete games</th>\n",
       "      <td>0.736845</td>\n",
       "      <td>0.077975</td>\n",
       "    </tr>\n",
       "    <tr>\n",
       "      <th>shutouts</th>\n",
       "      <td>0.565790</td>\n",
       "      <td>0.730576</td>\n",
       "    </tr>\n",
       "    <tr>\n",
       "      <th>saves</th>\n",
       "      <td>0.657524</td>\n",
       "      <td>0.391276</td>\n",
       "    </tr>\n",
       "    <tr>\n",
       "      <th>errors</th>\n",
       "      <td>0.890132</td>\n",
       "      <td>0.014388</td>\n",
       "    </tr>\n",
       "  </tbody>\n",
       "</table>\n",
       "</div>"
      ],
      "text/plain": [
       "                        skew  kurtosis\n",
       "wins                0.047089 -0.874262\n",
       "runs                1.200786  3.860870\n",
       "at bat              0.183437 -0.772079\n",
       "hit                 0.670254 -0.890236\n",
       "double             -0.230650 -0.440185\n",
       "triple              0.129502 -0.984966\n",
       "homerun             0.516441  0.016806\n",
       "walk                0.158498 -0.798272\n",
       "strikeouts         -0.156065  1.401705\n",
       "stolen base         0.479893 -0.071247\n",
       "runs allowed        0.045734 -0.122570\n",
       "earned runs         0.058710  0.175988\n",
       "earned run average  0.053331  0.341766\n",
       "complete games      0.736845  0.077975\n",
       "shutouts            0.565790  0.730576\n",
       "saves               0.657524  0.391276\n",
       "errors              0.890132  0.014388"
      ]
     },
     "execution_count": 19,
     "metadata": {},
     "output_type": "execute_result"
    }
   ],
   "source": [
    "df.agg(['skew', 'kurtosis']).transpose()"
   ]
  },
  {
   "cell_type": "markdown",
   "metadata": {},
   "source": [
    "**Right skewed columns:** runs, hits, complete games, shutouts, saves and errors."
   ]
  },
  {
   "cell_type": "markdown",
   "metadata": {},
   "source": [
    "**Removing the skewness of the data**"
   ]
  },
  {
   "cell_type": "code",
   "execution_count": 55,
   "metadata": {},
   "outputs": [],
   "source": [
    "from scipy.stats import boxcox\n",
    "columns = [\"wins\", \"runs\", \"at bat\", \"hit\", \"double\", \"triple\", \"homerun\", \"walk\", \"strikeouts\", \"stolen base\",\"runs allowed\",\n",
    "          \"earned runs\", \"earned run average\",\"complete games\", \"shutouts\",\"saves\", \"errors\"]\n",
    "\n",
    "skew = [\"runs\", \"hit\", \"complete games\", \"shutouts\", \"saves\", \"errors\"]\n",
    "\n",
    "for col in skew:\n",
    "    df.insert(list(df).index(col), col + '1', np.sqrt(df.iloc[:,columns.index(col)]))\n",
    "    df = df.drop([col], axis = 1)"
   ]
  },
  {
   "cell_type": "code",
   "execution_count": 63,
   "metadata": {},
   "outputs": [
    {
     "data": {
      "text/html": [
       "<div>\n",
       "<style scoped>\n",
       "    .dataframe tbody tr th:only-of-type {\n",
       "        vertical-align: middle;\n",
       "    }\n",
       "\n",
       "    .dataframe tbody tr th {\n",
       "        vertical-align: top;\n",
       "    }\n",
       "\n",
       "    .dataframe thead th {\n",
       "        text-align: right;\n",
       "    }\n",
       "</style>\n",
       "<table border=\"1\" class=\"dataframe\">\n",
       "  <thead>\n",
       "    <tr style=\"text-align: right;\">\n",
       "      <th></th>\n",
       "      <th>skew</th>\n",
       "      <th>kurtosis</th>\n",
       "    </tr>\n",
       "  </thead>\n",
       "  <tbody>\n",
       "    <tr>\n",
       "      <th>runs</th>\n",
       "      <td>0.968676</td>\n",
       "      <td>3.130555</td>\n",
       "    </tr>\n",
       "    <tr>\n",
       "      <th>hit</th>\n",
       "      <td>0.649567</td>\n",
       "      <td>-0.905182</td>\n",
       "    </tr>\n",
       "    <tr>\n",
       "      <th>complete games</th>\n",
       "      <td>-0.311476</td>\n",
       "      <td>-0.431302</td>\n",
       "    </tr>\n",
       "    <tr>\n",
       "      <th>shutouts</th>\n",
       "      <td>-0.061761</td>\n",
       "      <td>0.435714</td>\n",
       "    </tr>\n",
       "    <tr>\n",
       "      <th>saves</th>\n",
       "      <td>0.410288</td>\n",
       "      <td>0.189720</td>\n",
       "    </tr>\n",
       "    <tr>\n",
       "      <th>errors</th>\n",
       "      <td>0.763487</td>\n",
       "      <td>-0.129275</td>\n",
       "    </tr>\n",
       "  </tbody>\n",
       "</table>\n",
       "</div>"
      ],
      "text/plain": [
       "                    skew  kurtosis\n",
       "runs            0.968676  3.130555\n",
       "hit             0.649567 -0.905182\n",
       "complete games -0.311476 -0.431302\n",
       "shutouts       -0.061761  0.435714\n",
       "saves           0.410288  0.189720\n",
       "errors          0.763487 -0.129275"
      ]
     },
     "execution_count": 63,
     "metadata": {},
     "output_type": "execute_result"
    }
   ],
   "source": [
    "df.columns = columns\n",
    "df[skew].agg(['skew', 'kurtosis']).transpose()"
   ]
  },
  {
   "cell_type": "markdown",
   "metadata": {},
   "source": [
    "The skewness of the data have been reduce relatively."
   ]
  },
  {
   "cell_type": "markdown",
   "metadata": {},
   "source": [
    "#### checking the outliers"
   ]
  },
  {
   "cell_type": "code",
   "execution_count": 18,
   "metadata": {
    "scrolled": false
   },
   "outputs": [
    {
     "data": {
      "image/png": "[encoded data removed]",
      "text/plain": [
       "<Figure size 432x288 with 1 Axes>"
      ]
     },
     "metadata": {
      "needs_background": "light"
     },
     "output_type": "display_data"
    },
    {
     "data": {
      "image/png": "[encoded data removed]",
      "text/plain": [
       "<Figure size 432x288 with 1 Axes>"
      ]
     },
     "metadata": {
      "needs_background": "light"
     },
     "output_type": "display_data"
    },
    {
     "data": {
      "image/png": "[encoded data removed]",
      "text/plain": [
       "<Figure size 432x288 with 1 Axes>"
      ]
     },
     "metadata": {
      "needs_background": "light"
     },
     "output_type": "display_data"
    },
    {
     "data": {
      "image/png": "[encoded data removed]",
      "text/plain": [
       "<Figure size 432x288 with 1 Axes>"
      ]
     },
     "metadata": {
      "needs_background": "light"
     },
     "output_type": "display_data"
    },
    {
     "data": {
      "image/png": "[encoded data removed]",
      "text/plain": [
       "<Figure size 432x288 with 1 Axes>"
      ]
     },
     "metadata": {
      "needs_background": "light"
     },
     "output_type": "display_data"
    },
    {
     "data": {
      "image/png": "[encoded data removed]",
      "text/plain": [
       "<Figure size 432x288 with 1 Axes>"
      ]
     },
     "metadata": {
      "needs_background": "light"
     },
     "output_type": "display_data"
    },
    {
     "data": {
      "image/png": "[encoded data removed]",
      "text/plain": [
       "<Figure size 432x288 with 1 Axes>"
      ]
     },
     "metadata": {
      "needs_background": "light"
     },
     "output_type": "display_data"
    },
    {
     "data": {
      "image/png": "[encoded data removed]",
      "text/plain": [
       "<Figure size 432x288 with 1 Axes>"
      ]
     },
     "metadata": {
      "needs_background": "light"
     },
     "output_type": "display_data"
    },
    {
     "data": {
      "image/png": "[encoded data removed]",
      "text/plain": [
       "<Figure size 432x288 with 1 Axes>"
      ]
     },
     "metadata": {
      "needs_background": "light"
     },
     "output_type": "display_data"
    },
    {
     "data": {
      "image/png": "[encoded data removed]",
      "text/plain": [
       "<Figure size 432x288 with 1 Axes>"
      ]
     },
     "metadata": {
      "needs_background": "light"
     },
     "output_type": "display_data"
    },
    {
     "data": {
      "image/png": "[encoded data removed]",
      "text/plain": [
       "<Figure size 432x288 with 1 Axes>"
      ]
     },
     "metadata": {
      "needs_background": "light"
     },
     "output_type": "display_data"
    },
    {
     "data": {
      "image/png": "[encoded data removed]",
      "text/plain": [
       "<Figure size 432x288 with 1 Axes>"
      ]
     },
     "metadata": {
      "needs_background": "light"
     },
     "output_type": "display_data"
    },
    {
     "data": {
      "image/png": "[encoded data removed]",
      "text/plain": [
       "<Figure size 432x288 with 1 Axes>"
      ]
     },
     "metadata": {
      "needs_background": "light"
     },
     "output_type": "display_data"
    },
    {
     "data": {
      "image/png": "[encoded data removed]",
      "text/plain": [
       "<Figure size 432x288 with 1 Axes>"
      ]
     },
     "metadata": {
      "needs_background": "light"
     },
     "output_type": "display_data"
    },
    {
     "data": {
      "image/png": "[encoded data removed]",
      "text/plain": [
       "<Figure size 432x288 with 1 Axes>"
      ]
     },
     "metadata": {
      "needs_background": "light"
     },
     "output_type": "display_data"
    },
    {
     "data": {
      "image/png": "[encoded data removed]",
      "text/plain": [
       "<Figure size 432x288 with 1 Axes>"
      ]
     },
     "metadata": {
      "needs_background": "light"
     },
     "output_type": "display_data"
    },
    {
     "data": {
      "image/png": "[encoded data removed]",
      "text/plain": [
       "<Figure size 432x288 with 1 Axes>"
      ]
     },
     "metadata": {
      "needs_background": "light"
     },
     "output_type": "display_data"
    }
   ],
   "source": [
    "for i in num_feat:\n",
    "    plt.figure()\n",
    "    sns.boxplot(x=df[i])"
   ]
  },
  {
   "cell_type": "markdown",
   "metadata": {},
   "source": [
    "#### removing the outliers"
   ]
  },
  {
   "cell_type": "code",
   "execution_count": 65,
   "metadata": {},
   "outputs": [
    {
     "data": {
      "text/plain": [
       "(20, 17)"
      ]
     },
     "execution_count": 65,
     "metadata": {},
     "output_type": "execute_result"
    }
   ],
   "source": [
    "df1 = df\n",
    "for i in num_feat:\n",
    "    Q1 = df[i].quantile(0.25)\n",
    "    Q3 = df[i].quantile(0.75)\n",
    "    IQR = Q3 - Q1    #IQR is interquartile range. \n",
    "    filter = (df[i] >= Q1 - 1.5 * IQR) & (df[i] <= Q3 + 1.5 *IQR)\n",
    "    df1 = df1.loc[filter]\n",
    "df1.shape"
   ]
  },
  {
   "cell_type": "markdown",
   "metadata": {},
   "source": [
    "Since we are losing the 30% of the data while removing the outliers, therefore we are losng a lot of information from our data. So it is not good to remove that amount of data."
   ]
  },
  {
   "cell_type": "markdown",
   "metadata": {},
   "source": [
    "#### splitting the features and the targets"
   ]
  },
  {
   "cell_type": "code",
   "execution_count": 193,
   "metadata": {},
   "outputs": [],
   "source": [
    "X = df.drop(\"wins\", axis = 1)\n",
    "y = df[\"wins\"]"
   ]
  },
  {
   "cell_type": "markdown",
   "metadata": {},
   "source": [
    "### scaling"
   ]
  },
  {
   "cell_type": "markdown",
   "metadata": {},
   "source": [
    "Since, all the columns have different scale. So scaling is required for the models to converge efficiently."
   ]
  },
  {
   "cell_type": "code",
   "execution_count": 194,
   "metadata": {},
   "outputs": [],
   "source": [
    "from sklearn.preprocessing import MinMaxScaler\n",
    "scaler = MinMaxScaler()\n",
    "X = scaler.fit_transform(X)"
   ]
  },
  {
   "cell_type": "markdown",
   "metadata": {},
   "source": [
    "#### spliting the test and train data"
   ]
  },
  {
   "cell_type": "code",
   "execution_count": 195,
   "metadata": {},
   "outputs": [],
   "source": [
    "X_train, X_test, y_train, y_test = train_test_split(X, y, test_size=0.20)"
   ]
  },
  {
   "cell_type": "markdown",
   "metadata": {},
   "source": [
    "## Machine learning modeling"
   ]
  },
  {
   "cell_type": "markdown",
   "metadata": {},
   "source": [
    "### Linear regression model"
   ]
  },
  {
   "cell_type": "code",
   "execution_count": 196,
   "metadata": {},
   "outputs": [
    {
     "data": {
      "text/plain": [
       "LinearRegression(copy_X=True, fit_intercept=True, n_jobs=None, normalize=False)"
      ]
     },
     "execution_count": 196,
     "metadata": {},
     "output_type": "execute_result"
    }
   ],
   "source": [
    "from sklearn.linear_model import LinearRegression\n",
    "LR = LinearRegression()\n",
    "LR.fit(X_train, y_train)"
   ]
  },
  {
   "cell_type": "code",
   "execution_count": 197,
   "metadata": {},
   "outputs": [
    {
     "data": {
      "text/plain": [
       "0.8131128856407601"
      ]
     },
     "execution_count": 197,
     "metadata": {},
     "output_type": "execute_result"
    }
   ],
   "source": [
    "LR.score(X_test, y_test)"
   ]
  },
  {
   "cell_type": "code",
   "execution_count": 198,
   "metadata": {},
   "outputs": [
    {
     "data": {
      "text/plain": [
       "array([-0.20016784, -0.86590069,  0.16972805, -2.08776935, -0.49155507])"
      ]
     },
     "execution_count": 198,
     "metadata": {},
     "output_type": "execute_result"
    }
   ],
   "source": [
    "cross_val_score(LR, X_train, y_train, scoring = \"r2\", cv = 5)"
   ]
  },
  {
   "cell_type": "markdown",
   "metadata": {},
   "source": [
    "There are so much fluctuations in the accuracy of the linear regression model. We can try some other regression models."
   ]
  },
  {
   "cell_type": "markdown",
   "metadata": {},
   "source": [
    "### Decision tree regressor"
   ]
  },
  {
   "cell_type": "code",
   "execution_count": 199,
   "metadata": {},
   "outputs": [
    {
     "data": {
      "text/plain": [
       "DecisionTreeRegressor(ccp_alpha=0.0, criterion='mse', max_depth=None,\n",
       "                      max_features=None, max_leaf_nodes=None,\n",
       "                      min_impurity_decrease=0.0, min_impurity_split=None,\n",
       "                      min_samples_leaf=1, min_samples_split=2,\n",
       "                      min_weight_fraction_leaf=0.0, presort='deprecated',\n",
       "                      random_state=None, splitter='best')"
      ]
     },
     "execution_count": 199,
     "metadata": {},
     "output_type": "execute_result"
    }
   ],
   "source": [
    "from sklearn.tree import DecisionTreeRegressor\n",
    "DT = DecisionTreeRegressor()\n",
    "DT.fit(X_train, y_train)"
   ]
  },
  {
   "cell_type": "code",
   "execution_count": 200,
   "metadata": {},
   "outputs": [
    {
     "data": {
      "text/plain": [
       "0.09553641346906805"
      ]
     },
     "execution_count": 200,
     "metadata": {},
     "output_type": "execute_result"
    }
   ],
   "source": [
    "DT_score = DT.score(X_test, y_test)\n",
    "DT_score"
   ]
  },
  {
   "cell_type": "code",
   "execution_count": 201,
   "metadata": {},
   "outputs": [
    {
     "data": {
      "text/plain": [
       "array([ 0.14794455,  0.19079628, -0.68292683, -0.93657635, -0.60586618])"
      ]
     },
     "execution_count": 201,
     "metadata": {},
     "output_type": "execute_result"
    }
   ],
   "source": [
    "cross_val_score(DT, X_train, y_train, scoring = \"r2\", cv = 5)"
   ]
  },
  {
   "cell_type": "markdown",
   "metadata": {},
   "source": [
    "Again, the accuracy of the decision tree model is fluctuating with a large range."
   ]
  },
  {
   "cell_type": "markdown",
   "metadata": {},
   "source": [
    "### Random forest regressor"
   ]
  },
  {
   "cell_type": "code",
   "execution_count": 202,
   "metadata": {},
   "outputs": [
    {
     "data": {
      "text/plain": [
       "0.61125931871574"
      ]
     },
     "execution_count": 202,
     "metadata": {},
     "output_type": "execute_result"
    }
   ],
   "source": [
    "from sklearn.ensemble import RandomForestRegressor\n",
    "\n",
    "RF = RandomForestRegressor(n_estimators = 100)\n",
    "\n",
    "RF.fit(X_train, y_train)\n",
    "RF.score(X_test, y_test)"
   ]
  },
  {
   "cell_type": "code",
   "execution_count": 203,
   "metadata": {},
   "outputs": [
    {
     "data": {
      "text/plain": [
       "array([ 0.29240416,  0.40797208, -0.69474268,  0.26963116,  0.17162383])"
      ]
     },
     "execution_count": 203,
     "metadata": {},
     "output_type": "execute_result"
    }
   ],
   "source": [
    "cross_val_score(RF, X_train, y_train, scoring = \"r2\", cv = 5)"
   ]
  },
  {
   "cell_type": "markdown",
   "metadata": {},
   "source": [
    "### Gradient Boost regressor"
   ]
  },
  {
   "cell_type": "code",
   "execution_count": 204,
   "metadata": {},
   "outputs": [
    {
     "data": {
      "text/plain": [
       "0.5264879621347496"
      ]
     },
     "execution_count": 204,
     "metadata": {},
     "output_type": "execute_result"
    }
   ],
   "source": [
    "from sklearn.ensemble import GradientBoostingRegressor\n",
    "\n",
    "GB = GradientBoostingRegressor(n_estimators = 80)\n",
    "\n",
    "GB.fit(X_train, y_train)\n",
    "accuracy = GB.score(X_test, y_test)\n",
    "accuracy"
   ]
  },
  {
   "cell_type": "code",
   "execution_count": 205,
   "metadata": {},
   "outputs": [
    {
     "data": {
      "text/plain": [
       "array([ 0.45226377,  0.45094958, -0.84474911,  0.03349303, -0.26623995])"
      ]
     },
     "execution_count": 205,
     "metadata": {},
     "output_type": "execute_result"
    }
   ],
   "source": [
    "cross_val_score(GB, X_train, y_train, scoring = \"r2\", cv = 5)"
   ]
  },
  {
   "cell_type": "code",
   "execution_count": 206,
   "metadata": {},
   "outputs": [
    {
     "name": "stdout",
     "output_type": "stream",
     "text": [
      "Fitting 5 folds for each of 1080 candidates, totalling 5400 fits\n"
     ]
    },
    {
     "name": "stderr",
     "output_type": "stream",
     "text": [
      "[Parallel(n_jobs=-1)]: Using backend LokyBackend with 4 concurrent workers.\n",
      "[Parallel(n_jobs=-1)]: Done  42 tasks      | elapsed:   53.7s\n",
      "[Parallel(n_jobs=-1)]: Done 192 tasks      | elapsed:  1.0min\n",
      "[Parallel(n_jobs=-1)]: Done 442 tasks      | elapsed:  1.3min\n",
      "[Parallel(n_jobs=-1)]: Done 792 tasks      | elapsed:  1.6min\n",
      "[Parallel(n_jobs=-1)]: Done 1242 tasks      | elapsed:  2.2min\n",
      "[Parallel(n_jobs=-1)]: Done 1792 tasks      | elapsed:  3.0min\n",
      "[Parallel(n_jobs=-1)]: Done 2442 tasks      | elapsed:  3.7min\n",
      "[Parallel(n_jobs=-1)]: Done 3192 tasks      | elapsed:  4.7min\n",
      "[Parallel(n_jobs=-1)]: Done 4042 tasks      | elapsed:  5.9min\n",
      "[Parallel(n_jobs=-1)]: Done 4992 tasks      | elapsed:  7.2min\n",
      "[Parallel(n_jobs=-1)]: Done 5400 out of 5400 | elapsed:  7.8min finished\n"
     ]
    },
    {
     "data": {
      "text/plain": [
       "GridSearchCV(cv=5, error_score=nan,\n",
       "             estimator=RandomForestRegressor(bootstrap=True, ccp_alpha=0.0,\n",
       "                                             criterion='mse', max_depth=None,\n",
       "                                             max_features='auto',\n",
       "                                             max_leaf_nodes=None,\n",
       "                                             max_samples=None,\n",
       "                                             min_impurity_decrease=0.0,\n",
       "                                             min_impurity_split=None,\n",
       "                                             min_samples_leaf=1,\n",
       "                                             min_samples_split=2,\n",
       "                                             min_weight_fraction_leaf=0.0,\n",
       "                                             n_estimators=100, n_jobs=None,\n",
       "                                             oob_score=False, random_state=None,\n",
       "                                             verbose=0, warm_start=False),\n",
       "             iid='deprecated', n_jobs=-1,\n",
       "             param_grid={'max_depth': range(1, 10),\n",
       "                         'min_samples_leaf': range(1, 5),\n",
       "                         'min_samples_split': range(2, 8),\n",
       "                         'n_estimators': range(50, 100, 10)},\n",
       "             pre_dispatch='2*n_jobs', refit=True, return_train_score=False,\n",
       "             scoring=None, verbose=1)"
      ]
     },
     "execution_count": 206,
     "metadata": {},
     "output_type": "execute_result"
    }
   ],
   "source": [
    "param_dict = {\n",
    "    \"n_estimators\":range(50,100, 10),\n",
    "    \"max_depth\":range(1,10),\n",
    "    \"min_samples_split\":range(2,8),\n",
    "    \"min_samples_leaf\":range(1,5)\n",
    "}\n",
    "grid_RF = GridSearchCV(RF,\n",
    "                      param_grid=param_dict,\n",
    "                      cv = 5,\n",
    "                      verbose = 1,\n",
    "                      n_jobs = -1)\n",
    "grid_RF.fit(X_train, y_train)"
   ]
  },
  {
   "cell_type": "code",
   "execution_count": 207,
   "metadata": {},
   "outputs": [
    {
     "data": {
      "text/plain": [
       "{'max_depth': 7,\n",
       " 'min_samples_leaf': 4,\n",
       " 'min_samples_split': 2,\n",
       " 'n_estimators': 50}"
      ]
     },
     "execution_count": 207,
     "metadata": {},
     "output_type": "execute_result"
    }
   ],
   "source": [
    "grid_RF.best_params_"
   ]
  },
  {
   "cell_type": "code",
   "execution_count": 208,
   "metadata": {},
   "outputs": [
    {
     "data": {
      "text/plain": [
       "0.6276659609803157"
      ]
     },
     "execution_count": 208,
     "metadata": {},
     "output_type": "execute_result"
    }
   ],
   "source": [
    "grid_RF.score(X_test, y_test)"
   ]
  },
  {
   "cell_type": "code",
   "execution_count": 211,
   "metadata": {},
   "outputs": [
    {
     "data": {
      "text/plain": [
       "0.5205510487274541"
      ]
     },
     "execution_count": 211,
     "metadata": {},
     "output_type": "execute_result"
    }
   ],
   "source": [
    "RF_final = RandomForestRegressor(n_estimators = 50, max_depth = 7, min_samples_leaf = 4, min_samples_split = 2)\n",
    "RF_final.fit(X_train, y_train)\n",
    "accuracy = RF_final.score(X_test, y_test)\n",
    "accuracy"
   ]
  },
  {
   "cell_type": "code",
   "execution_count": 212,
   "metadata": {},
   "outputs": [
    {
     "data": {
      "text/plain": [
       "array([ 0.32597163,  0.36627131, -0.5327638 ,  0.51779443,  0.30368034])"
      ]
     },
     "execution_count": 212,
     "metadata": {},
     "output_type": "execute_result"
    }
   ],
   "source": [
    "cross_val_score(RF_final, X_train, y_train, scoring = \"r2\", cv = 5)"
   ]
  },
  {
   "cell_type": "markdown",
   "metadata": {},
   "source": [
    "### Applying PCA to data and then using random forest"
   ]
  },
  {
   "cell_type": "code",
   "execution_count": 214,
   "metadata": {},
   "outputs": [
    {
     "data": {
      "text/plain": [
       "PCA(copy=True, iterated_power='auto', n_components=4, random_state=None,\n",
       "    svd_solver='auto', tol=0.0, whiten=False)"
      ]
     },
     "execution_count": 214,
     "metadata": {},
     "output_type": "execute_result"
    }
   ],
   "source": [
    "from sklearn.decomposition import PCA\n",
    "pca = PCA(n_components = 4)\n",
    "pca.fit(X)"
   ]
  },
  {
   "cell_type": "code",
   "execution_count": 221,
   "metadata": {},
   "outputs": [],
   "source": [
    "X_pca = pca.transform(X)\n",
    "X_train, X_test, y_train, y_test = train_test_split(X_pca, y, test_size=0.20)"
   ]
  },
  {
   "cell_type": "code",
   "execution_count": 224,
   "metadata": {},
   "outputs": [
    {
     "data": {
      "text/plain": [
       "0.739834016973126"
      ]
     },
     "execution_count": 224,
     "metadata": {},
     "output_type": "execute_result"
    }
   ],
   "source": [
    "#RF_pca = RandomForestRegressor(n_estimators = 50, max_depth = 7, min_samples_leaf = 4, min_samples_split = 2)\n",
    "RF_pca = RandomForestRegressor()\n",
    "RF_pca.fit(X_train, y_train)\n",
    "RF_pca.score(X_test, y_test)"
   ]
  },
  {
   "cell_type": "code",
   "execution_count": 225,
   "metadata": {},
   "outputs": [
    {
     "data": {
      "text/plain": [
       "array([ 0.40992225, -0.91358505, -0.01964436,  0.34970125, -1.06612222])"
      ]
     },
     "execution_count": 225,
     "metadata": {},
     "output_type": "execute_result"
    }
   ],
   "source": [
    "cross_val_score(RF_pca, X_train, y_train, scoring = \"r2\", cv = 5)"
   ]
  },
  {
   "cell_type": "markdown",
   "metadata": {},
   "source": [
    "### Conclusion"
   ]
  },
  {
   "cell_type": "markdown",
   "metadata": {},
   "source": [
    "Since the dataset is very small and has 30 instances only. After splitng the test and train dataset with 80-20 ratio, the training data has only 24 instances. It is very hard for any model to provide significant accuracy for such a small data. We have tried different models but none of them has given significantly better performance. We need more data to train the model with some better accuracy."
   ]
  },
  {
   "cell_type": "code",
   "execution_count": null,
   "metadata": {},
   "outputs": [],
   "source": []
  }
 ],
 "metadata": {
  "kernelspec": {
   "display_name": "Python 3",
   "language": "python",
   "name": "python3"
  },
  "language_info": {
   "codemirror_mode": {
    "name": "ipython",
    "version": 3
   },
   "file_extension": ".py",
   "mimetype": "text/x-python",
   "name": "python",
   "nbconvert_exporter": "python",
   "pygments_lexer": "ipython3",
   "version": "3.7.3"
  }
 },
 "nbformat": 4,
 "nbformat_minor": 4
}
